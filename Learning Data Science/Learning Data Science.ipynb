{
 "cells": [
  {
   "metadata": {},
   "cell_type": "markdown",
   "source": "# Data Science Tools and Ecosystem\n",
   "id": "8ca024af0c98c095"
  },
  {
   "metadata": {},
   "cell_type": "markdown",
   "source": "In this notebook, we will explore various data science tools and ecosystem components. We'll look into languages, libraries, tools, and some basic arithmetic operations used in data science.\n",
   "id": "93a0f949b298bd23"
  },
  {
   "metadata": {},
   "cell_type": "markdown",
   "source": [
    "Some of the popular languages that Data Scientists use are:\n",
    "1. Python\n",
    "2. R\n",
    "3. SQL\n",
    "4. Julia\n",
    "5. Scala\n"
   ],
   "id": "f5bbc0b73a2b21e0"
  },
  {
   "metadata": {},
   "cell_type": "markdown",
   "source": [
    "Some of the commonly used libraries used by Data Scientists include:\n",
    "1. Pandas\n",
    "2. NumPy\n",
    "3. Matplotlib\n",
    "4. Seaborn\n",
    "5. Scikit-learn\n"
   ],
   "id": "5f3cc413fa302f92"
  },
  {
   "metadata": {},
   "cell_type": "markdown",
   "source": [
    "| Tool              | Description                                         |\n",
    "|-------------------|-----------------------------------------------------|\n",
    "| Jupyter Notebook  | Web-based interactive computing environment         |\n",
    "| RStudio           | IDE for R programming                              |\n",
    "| Apache Zeppelin   | Multi-purpose notebook for data analytics           |\n",
    "| Spyder            | Scientific Python Development Environment           |\n"
   ],
   "id": "bc3b801e22816a96"
  },
  {
   "metadata": {},
   "cell_type": "markdown",
   "source": "### Below is an example of evaluating arithmetic expressions in Python:\n",
   "id": "cdeec7939f9c10e8"
  },
  {
   "metadata": {},
   "cell_type": "markdown",
   "source": [
    "# This will multiply then add two numbers\n",
    "\n"
   ],
   "id": "1b8f6af3611d5cf4"
  },
  {
   "metadata": {
    "ExecuteTime": {
     "end_time": "2025-04-16T07:31:11.942075Z",
     "start_time": "2025-04-16T07:31:11.933822Z"
    }
   },
   "cell_type": "code",
   "source": "(3*4)+5\n",
   "id": "77dae7dc9d9a6068",
   "outputs": [
    {
     "data": {
      "text/plain": [
       "17"
      ]
     },
     "execution_count": 1,
     "metadata": {},
     "output_type": "execute_result"
    }
   ],
   "execution_count": 1
  },
  {
   "metadata": {},
   "cell_type": "markdown",
   "source": "# This will convert 200 minutes to hours by dividing by 60",
   "id": "e4c7412656a27418"
  },
  {
   "metadata": {
    "ExecuteTime": {
     "end_time": "2025-04-16T09:01:28.518865Z",
     "start_time": "2025-04-16T09:01:28.510552Z"
    }
   },
   "cell_type": "code",
   "source": [
    "minutes = 200\n",
    "hours = minutes / 60\n",
    "hours"
   ],
   "id": "72f40379b128dd1c",
   "outputs": [
    {
     "data": {
      "text/plain": [
       "3.3333333333333335"
      ]
     },
     "execution_count": 1,
     "metadata": {},
     "output_type": "execute_result"
    }
   ],
   "execution_count": 1
  },
  {
   "metadata": {},
   "cell_type": "markdown",
   "source": [
    "## Objectives:\n",
    "- List popular languages for Data Science\n",
    "- List commonly used libraries\n",
    "- Create tables in markdown\n",
    "- Perform arithmetic operations using Python\n",
    "- Share the notebook via GitHub\n"
   ],
   "id": "13e80fa9ccc615d4"
  },
  {
   "metadata": {},
   "cell_type": "markdown",
   "source": [
    "## Author\n",
    "JAY DAVE\n"
   ],
   "id": "94059415d893a0e7"
  },
  {
   "metadata": {},
   "cell_type": "code",
   "outputs": [],
   "execution_count": null,
   "source": "",
   "id": "801d8f726fffe67f"
  }
 ],
 "metadata": {
  "kernelspec": {
   "display_name": "Python 3",
   "language": "python",
   "name": "python3"
  },
  "language_info": {
   "codemirror_mode": {
    "name": "ipython",
    "version": 2
   },
   "file_extension": ".py",
   "mimetype": "text/x-python",
   "name": "python",
   "nbconvert_exporter": "python",
   "pygments_lexer": "ipython2",
   "version": "2.7.6"
  }
 },
 "nbformat": 4,
 "nbformat_minor": 5
}
